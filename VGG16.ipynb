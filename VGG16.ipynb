{
  "cells": [
    {
      "cell_type": "code",
      "execution_count": null,
      "metadata": {
        "id": "g6XRKx1PvLph"
      },
      "outputs": [],
      "source": [
        "import os\n",
        "import keras\n",
        "import itertools\n",
        "import numpy as np\n",
        "import pandas as pd\n",
        "import seaborn as sn\n",
        "from collections import Counter\n",
        "import matplotlib.pyplot as plt\n",
        "from PIL import Image\n",
        "import tensorflow as tf\n",
        "from tensorflow.keras.preprocessing import image\n",
        "from tensorflow.keras.preprocessing.image import ImageDataGenerator, load_img\n",
        "\n",
        "from tensorflow.keras.models import Model, Sequential\n",
        "from tensorflow.keras import models\n",
        "from tensorflow.keras.applications import VGG16\n",
        "from tensorflow.keras.layers import Dense, Flatten, Dropout,BatchNormalization ,Activation, GlobalAveragePooling2D\n",
        "from tensorflow.keras.layers import GaussianNoise\n",
        "from tensorflow.keras import regularizers\n",
        "from IPython.display import HTML\n",
        "import keras.backend as K\n",
        "from tensorflow.keras.optimizers import Adam\n",
        "from sklearn.metrics import classification_report, confusion_matrix\n",
        "from tensorflow.keras.callbacks import ReduceLROnPlateau,ModelCheckpoint,EarlyStopping\n",
        "\n",
        "\n",
        "from tensorflow.keras.utils import plot_model\n",
        "from sklearn.metrics import accuracy_score\n",
        "from sklearn.metrics import precision_score\n",
        "from sklearn.metrics import recall_score\n",
        "from sklearn.metrics import f1_score\n",
        "from sklearn.metrics import roc_auc_score\n",
        "from sklearn.metrics import confusion_matrix"
      ]
    },
    {
      "cell_type": "code",
      "execution_count": null,
      "metadata": {
        "colab": {
          "base_uri": "https://localhost:8080/"
        },
        "id": "sBp9FbHGvWju",
        "outputId": "3f44989a-623d-4312-b32f-413f64fc8fdb"
      },
      "outputs": [
        {
          "name": "stdout",
          "output_type": "stream",
          "text": [
            "/content/drive/MyDrive/project_AI\n",
            "Archive:  /content/drive/MyDrive/project_AI/dataset.zip\n",
            "replace dataset/test_data/shipfire/302.jpg? [y]es, [n]o, [A]ll, [N]one, [r]ename: "
          ]
        }
      ],
      "source": [
        "%cd /content/drive/MyDrive/project_AI\n",
        "!unzip /content/drive/MyDrive/project_AI/dataset.zip"
      ]
    },
    {
      "cell_type": "code",
      "execution_count": null,
      "metadata": {
        "id": "BZ8UBPuFvrvb"
      },
      "outputs": [],
      "source": [
        "\n",
        "# declare path\n",
        "train_dir = '/content/drive/MyDrive/project_AI/dataset/train_data/'\n",
        "test_dir = '/content/drive/MyDrive/project_AI/dataset/test_data/'\n",
        "\n",
        "# Image size\n",
        "\n",
        "IMAGE_SIZE = (224,224)\n",
        "IMAGE_SHAPE = IMAGE_SIZE + (3,)\n",
        "\n",
        "BS = 32\n",
        "EPOCHS = 100\n",
        "ADAM_LEARNING_RATE = 0.0001\n",
        "PATIENCE =10\n",
        "\n",
        "classes=['ship','shipfire']\n",
        "\n"
      ]
    },
    {
      "cell_type": "code",
      "execution_count": null,
      "metadata": {
        "id": "Owx-roFAvxKZ"
      },
      "outputs": [],
      "source": [
        "# Data augmentation\n",
        "\n",
        "train_datagen = ImageDataGenerator(rescale = 1./255,\n",
        "                                   featurewise_center=False,\n",
        "                                   featurewise_std_normalization=False,\n",
        "                                   rotation_range=10,\n",
        "                                   width_shift_range=0.1,\n",
        "                                   height_shift_range=0.1,\n",
        "                                   zoom_range=0.1,\n",
        "                                   horizontal_flip=True)\n",
        "\n",
        "test_datagen  = ImageDataGenerator(rescale = 1./255)\n",
        "\n"
      ]
    },
    {
      "cell_type": "code",
      "execution_count": null,
      "metadata": {
        "colab": {
          "base_uri": "https://localhost:8080/"
        },
        "id": "p4eYEfMYv3rK",
        "outputId": "895e8ead-3dd4-4abf-fa3c-07d4ebf33816"
      },
      "outputs": [
        {
          "output_type": "stream",
          "name": "stdout",
          "text": [
            "Found 789 images belonging to 2 classes.\n",
            "Found 150 images belonging to 2 classes.\n"
          ]
        }
      ],
      "source": [
        "from sklearn.utils import shuffle\n",
        "# Load dataset\n",
        "\n",
        "train_dataset  = train_datagen.flow_from_directory(directory = train_dir,\n",
        "                                                   target_size = IMAGE_SIZE,\n",
        "                                                   class_mode = 'categorical',\n",
        "                                                   batch_size = BS)\n",
        "\n",
        "test_dataset = test_datagen.flow_from_directory(directory = test_dir,\n",
        "                                                  target_size = IMAGE_SIZE,\n",
        "                                                  class_mode = 'categorical',\n",
        "                                                  shuffle = True,\n",
        "                                                  batch_size = BS)\n",
        "\n"
      ]
    },
    {
      "cell_type": "code",
      "execution_count": null,
      "metadata": {
        "colab": {
          "base_uri": "https://localhost:8080/",
          "height": 167
        },
        "id": "QEGeXJLpwAJR",
        "outputId": "7802bfbe-2d3d-4148-e426-af8bc3d594bb"
      },
      "outputs": [
        {
          "output_type": "stream",
          "name": "stderr",
          "text": [
            "<ipython-input-5-dc897ff00aaa>:13: FutureWarning: The frame.append method is deprecated and will be removed from pandas in a future version. Use pandas.concat instead.\n",
            "  HTML(train_count.append(test_count).to_html(escape=False))\n"
          ]
        },
        {
          "output_type": "execute_result",
          "data": {
            "text/plain": [
              "<IPython.core.display.HTML object>"
            ],
            "text/html": [
              "<table border=\"1\" class=\"dataframe\">\n",
              "  <thead>\n",
              "    <tr style=\"text-align: right;\">\n",
              "      <th></th>\n",
              "      <th>ship</th>\n",
              "      <th>shipfire</th>\n",
              "    </tr>\n",
              "  </thead>\n",
              "  <tbody>\n",
              "    <tr>\n",
              "      <th>train</th>\n",
              "      <td>367</td>\n",
              "      <td>422</td>\n",
              "    </tr>\n",
              "    <tr>\n",
              "      <th>test</th>\n",
              "      <td>74</td>\n",
              "      <td>80</td>\n",
              "    </tr>\n",
              "  </tbody>\n",
              "</table>"
            ]
          },
          "metadata": {},
          "execution_count": 5
        }
      ],
      "source": [
        "# Total train/test sample\n",
        "\n",
        "def count_exp(path, set_):\n",
        "    dict_ = {}\n",
        "    for expression in os.listdir(path):\n",
        "        dir_ = path + expression\n",
        "        dict_[expression] = len(os.listdir(dir_))\n",
        "    df = pd.DataFrame(dict_, index=[set_])\n",
        "    return df\n",
        "train_count = count_exp(train_dir, 'train')\n",
        "test_count = count_exp(test_dir, 'test')\n",
        "\n",
        "HTML(train_count.append(test_count).to_html(escape=False))"
      ]
    },
    {
      "cell_type": "code",
      "execution_count": null,
      "metadata": {
        "colab": {
          "base_uri": "https://localhost:8080/"
        },
        "id": "NOEsAu0IwoCJ",
        "outputId": "5ce8c7f2-11f3-42d9-cab5-b36b3c867115"
      },
      "outputs": [
        {
          "output_type": "execute_result",
          "data": {
            "text/plain": [
              "{'ship': 0, 'shipfire': 1}"
            ]
          },
          "metadata": {},
          "execution_count": 6
        }
      ],
      "source": [
        "# Data labels\n",
        "\n",
        "class_labels = test_dataset.class_indices\n",
        "class_labels"
      ]
    },
    {
      "cell_type": "code",
      "execution_count": null,
      "metadata": {
        "colab": {
          "base_uri": "https://localhost:8080/"
        },
        "id": "oFMrrCCLwsO5",
        "outputId": "8f137561-c603-4055-aa51-b77e44cb06bf"
      },
      "outputs": [
        {
          "output_type": "stream",
          "name": "stdout",
          "text": [
            "(32, 224, 224, 3)\n"
          ]
        }
      ],
      "source": [
        "# See the shape of any data\n",
        "\n",
        "train_sample=next(train_dataset)\n",
        "print(train_sample[0].shape)"
      ]
    },
    {
      "cell_type": "code",
      "execution_count": null,
      "metadata": {
        "colab": {
          "base_uri": "https://localhost:8080/"
        },
        "id": "3iM_2qIlwu9i",
        "outputId": "8371d817-730b-44a8-f016-da9c940fe118"
      },
      "outputs": [
        {
          "output_type": "stream",
          "name": "stdout",
          "text": [
            "Downloading data from https://storage.googleapis.com/tensorflow/keras-applications/vgg16/vgg16_weights_tf_dim_ordering_tf_kernels_notop.h5\n",
            "58889256/58889256 [==============================] - 0s 0us/step\n",
            "Model: \"vgg16\"\n",
            "_________________________________________________________________\n",
            " Layer (type)                Output Shape              Param #   \n",
            "=================================================================\n",
            " input_1 (InputLayer)        [(None, 224, 224, 3)]     0         \n",
            "                                                                 \n",
            " block1_conv1 (Conv2D)       (None, 224, 224, 64)      1792      \n",
            "                                                                 \n",
            " block1_conv2 (Conv2D)       (None, 224, 224, 64)      36928     \n",
            "                                                                 \n",
            " block1_pool (MaxPooling2D)  (None, 112, 112, 64)      0         \n",
            "                                                                 \n",
            " block2_conv1 (Conv2D)       (None, 112, 112, 128)     73856     \n",
            "                                                                 \n",
            " block2_conv2 (Conv2D)       (None, 112, 112, 128)     147584    \n",
            "                                                                 \n",
            " block2_pool (MaxPooling2D)  (None, 56, 56, 128)       0         \n",
            "                                                                 \n",
            " block3_conv1 (Conv2D)       (None, 56, 56, 256)       295168    \n",
            "                                                                 \n",
            " block3_conv2 (Conv2D)       (None, 56, 56, 256)       590080    \n",
            "                                                                 \n",
            " block3_conv3 (Conv2D)       (None, 56, 56, 256)       590080    \n",
            "                                                                 \n",
            " block3_pool (MaxPooling2D)  (None, 28, 28, 256)       0         \n",
            "                                                                 \n",
            " block4_conv1 (Conv2D)       (None, 28, 28, 512)       1180160   \n",
            "                                                                 \n",
            " block4_conv2 (Conv2D)       (None, 28, 28, 512)       2359808   \n",
            "                                                                 \n",
            " block4_conv3 (Conv2D)       (None, 28, 28, 512)       2359808   \n",
            "                                                                 \n",
            " block4_pool (MaxPooling2D)  (None, 14, 14, 512)       0         \n",
            "                                                                 \n",
            " block5_conv1 (Conv2D)       (None, 14, 14, 512)       2359808   \n",
            "                                                                 \n",
            " block5_conv2 (Conv2D)       (None, 14, 14, 512)       2359808   \n",
            "                                                                 \n",
            " block5_conv3 (Conv2D)       (None, 14, 14, 512)       2359808   \n",
            "                                                                 \n",
            " block5_pool (MaxPooling2D)  (None, 7, 7, 512)         0         \n",
            "                                                                 \n",
            "=================================================================\n",
            "Total params: 14,714,688\n",
            "Trainable params: 14,714,688\n",
            "Non-trainable params: 0\n",
            "_________________________________________________________________\n"
          ]
        }
      ],
      "source": [
        "# VGG16\n",
        "\n",
        "base_model = tf.keras.applications.VGG16(input_shape= IMAGE_SHAPE,include_top=False,weights=\"imagenet\")\n",
        "base_model.summary()"
      ]
    },
    {
      "cell_type": "code",
      "execution_count": null,
      "metadata": {
        "id": "MkAnh6dzw1hB"
      },
      "outputs": [],
      "source": [
        "# Freezing Layers\n",
        "\n",
        "for layer in base_model.layers[:11]:\n",
        "    layer.trainable=False\n"
      ]
    },
    {
      "cell_type": "code",
      "execution_count": null,
      "metadata": {
        "colab": {
          "base_uri": "https://localhost:8080/"
        },
        "id": "pyCvonZZw3PJ",
        "outputId": "8fa987fb-c198-44be-f307-51b9a8ae6e8a"
      },
      "outputs": [
        {
          "output_type": "stream",
          "name": "stdout",
          "text": [
            "Model: \"sequential\"\n",
            "_________________________________________________________________\n",
            " Layer (type)                Output Shape              Param #   \n",
            "=================================================================\n",
            " vgg16 (Functional)          (None, 7, 7, 512)         14714688  \n",
            "                                                                 \n",
            " batch_normalization (BatchN  (None, 7, 7, 512)        2048      \n",
            " ormalization)                                                   \n",
            "                                                                 \n",
            " gaussian_noise (GaussianNoi  (None, 7, 7, 512)        0         \n",
            " se)                                                             \n",
            "                                                                 \n",
            " global_average_pooling2d (G  (None, 512)              0         \n",
            " lobalAveragePooling2D)                                          \n",
            "                                                                 \n",
            " flatten (Flatten)           (None, 512)               0         \n",
            "                                                                 \n",
            " dense (Dense)               (None, 256)               131328    \n",
            "                                                                 \n",
            " batch_normalization_1 (Batc  (None, 256)              1024      \n",
            " hNormalization)                                                 \n",
            "                                                                 \n",
            " dropout (Dropout)           (None, 256)               0         \n",
            "                                                                 \n",
            " dense_1 (Dense)             (None, 128)               32896     \n",
            "                                                                 \n",
            " batch_normalization_2 (Batc  (None, 128)              512       \n",
            " hNormalization)                                                 \n",
            "                                                                 \n",
            " dropout_1 (Dropout)         (None, 128)               0         \n",
            "                                                                 \n",
            " dense_2 (Dense)             (None, 2)                 258       \n",
            "                                                                 \n",
            "=================================================================\n",
            "Total params: 14,882,754\n",
            "Trainable params: 13,145,474\n",
            "Non-trainable params: 1,737,280\n",
            "_________________________________________________________________\n"
          ]
        }
      ],
      "source": [
        "# Build transfer learning Model\n",
        "\n",
        "model=Sequential()\n",
        "model.add(base_model)\n",
        "model.add(BatchNormalization())\n",
        "model.add(GaussianNoise(0.01))\n",
        "model.add(GlobalAveragePooling2D())\n",
        "\n",
        "model.add(Flatten())\n",
        "model.add(Dense(256, activation='relu',kernel_regularizer=regularizers.l2(0.001),bias_regularizer=regularizers.l2(0.001)))\n",
        "model.add(BatchNormalization())\n",
        "model.add(Dropout(0.5))\n",
        "\n",
        "model.add(Dense(128, activation='relu',kernel_regularizer=regularizers.l2(0.001),bias_regularizer=regularizers.l2(0.001)))\n",
        "model.add(BatchNormalization())\n",
        "model.add(Dropout(0.5))\n",
        "\n",
        "model.add(Dense(2, activation=\"softmax\"))\n",
        "\n",
        "model.summary()"
      ]
    },
    {
      "cell_type": "code",
      "execution_count": null,
      "metadata": {
        "colab": {
          "base_uri": "https://localhost:8080/"
        },
        "id": "jNfR4Gvuw5zh",
        "outputId": "b31b591e-bb9b-4d64-cdbb-656e1088809d"
      },
      "outputs": [
        {
          "output_type": "stream",
          "name": "stderr",
          "text": [
            "WARNING:absl:`lr` is deprecated in Keras optimizer, please use `learning_rate` or use the legacy optimizer, e.g.,tf.keras.optimizers.legacy.Adam.\n"
          ]
        }
      ],
      "source": [
        "checkpoint = ModelCheckpoint(\"modelVGG.h5\", monitor='val_acc', verbose=1, save_best_only=True, mode='max')\n",
        "\n",
        "reduce_learningrate = ReduceLROnPlateau(monitor='val_loss',\n",
        "                              factor=0.2,\n",
        "                              patience=3,\n",
        "                              verbose=1,\n",
        "                              min_delta=0.0001)\n",
        "\n",
        "callbacks_list = [checkpoint,reduce_learningrate]\n",
        "\n",
        "epochs = 30\n",
        "\n",
        "model.compile(loss='binary_crossentropy',\n",
        "              optimizer = Adam(lr=0.001),\n",
        "              metrics=['accuracy'])"
      ]
    },
    {
      "cell_type": "code",
      "execution_count": null,
      "metadata": {
        "colab": {
          "base_uri": "https://localhost:8080/"
        },
        "id": "NOYlFGC6w9JB",
        "outputId": "dab1f2a2-e853-4076-e541-43867fe87130"
      },
      "outputs": [
        {
          "output_type": "stream",
          "name": "stdout",
          "text": [
            "Epoch 1/20\n",
            "25/25 [==============================] - ETA: 0s - loss: 1.0610 - accuracy: 0.7959"
          ]
        },
        {
          "output_type": "stream",
          "name": "stderr",
          "text": [
            "WARNING:tensorflow:Can save best model only with val_acc available, skipping.\n"
          ]
        },
        {
          "output_type": "stream",
          "name": "stdout",
          "text": [
            "\b\b\b\b\b\b\b\b\b\b\b\b\b\b\b\b\b\b\b\b\b\b\b\b\b\b\b\b\b\b\b\b\b\b\b\b\b\b\b\b\b\b\b\b\b\b\b\b\b\b\b\b\b\b\b\b\b\b\b\b\b\b\b\b\b\b\b\b\b\b\b\b\b\b\b\b\b\b\b\b\b\b\r25/25 [==============================] - 237s 9s/step - loss: 1.0610 - accuracy: 0.7959 - val_loss: 4.9789 - val_accuracy: 0.5067 - lr: 0.0010\n",
            "Epoch 2/20\n",
            "25/25 [==============================] - ETA: 0s - loss: 0.6495 - accuracy: 0.9506"
          ]
        },
        {
          "output_type": "stream",
          "name": "stderr",
          "text": [
            "WARNING:tensorflow:Can save best model only with val_acc available, skipping.\n"
          ]
        },
        {
          "output_type": "stream",
          "name": "stdout",
          "text": [
            "\b\b\b\b\b\b\b\b\b\b\b\b\b\b\b\b\b\b\b\b\b\b\b\b\b\b\b\b\b\b\b\b\b\b\b\b\b\b\b\b\b\b\b\b\b\b\b\b\b\b\b\b\b\b\b\b\b\b\b\b\b\b\b\b\b\b\b\b\b\b\b\b\b\b\b\b\b\b\b\b\b\b\r25/25 [==============================] - 18s 706ms/step - loss: 0.6495 - accuracy: 0.9506 - val_loss: 2.0687 - val_accuracy: 0.5067 - lr: 0.0010\n",
            "Epoch 3/20\n",
            "25/25 [==============================] - ETA: 0s - loss: 0.5940 - accuracy: 0.9556"
          ]
        },
        {
          "output_type": "stream",
          "name": "stderr",
          "text": [
            "WARNING:tensorflow:Can save best model only with val_acc available, skipping.\n"
          ]
        },
        {
          "output_type": "stream",
          "name": "stdout",
          "text": [
            "\b\b\b\b\b\b\b\b\b\b\b\b\b\b\b\b\b\b\b\b\b\b\b\b\b\b\b\b\b\b\b\b\b\b\b\b\b\b\b\b\b\b\b\b\b\b\b\b\b\b\b\b\b\b\b\b\b\b\b\b\b\b\b\b\b\b\b\b\b\b\b\b\b\b\b\b\b\b\b\b\b\b\r25/25 [==============================] - 19s 735ms/step - loss: 0.5940 - accuracy: 0.9556 - val_loss: 1.9294 - val_accuracy: 0.5067 - lr: 0.0010\n",
            "Epoch 4/20\n",
            "25/25 [==============================] - ETA: 0s - loss: 0.5011 - accuracy: 0.9785"
          ]
        },
        {
          "output_type": "stream",
          "name": "stderr",
          "text": [
            "WARNING:tensorflow:Can save best model only with val_acc available, skipping.\n"
          ]
        },
        {
          "output_type": "stream",
          "name": "stdout",
          "text": [
            "\b\b\b\b\b\b\b\b\b\b\b\b\b\b\b\b\b\b\b\b\b\b\b\b\b\b\b\b\b\b\b\b\b\b\b\b\b\b\b\b\b\b\b\b\b\b\b\b\b\b\b\b\b\b\b\b\b\b\b\b\b\b\b\b\b\b\b\b\b\b\b\b\b\b\b\b\b\b\b\b\b\b\r25/25 [==============================] - 17s 693ms/step - loss: 0.5011 - accuracy: 0.9785 - val_loss: 0.9705 - val_accuracy: 0.5467 - lr: 0.0010\n",
            "Epoch 5/20\n",
            "25/25 [==============================] - ETA: 0s - loss: 0.4584 - accuracy: 0.9785"
          ]
        },
        {
          "output_type": "stream",
          "name": "stderr",
          "text": [
            "WARNING:tensorflow:Can save best model only with val_acc available, skipping.\n"
          ]
        },
        {
          "output_type": "stream",
          "name": "stdout",
          "text": [
            "\b\b\b\b\b\b\b\b\b\b\b\b\b\b\b\b\b\b\b\b\b\b\b\b\b\b\b\b\b\b\b\b\b\b\b\b\b\b\b\b\b\b\b\b\b\b\b\b\b\b\b\b\b\b\b\b\b\b\b\b\b\b\b\b\b\b\b\b\b\b\b\b\b\b\b\b\b\b\b\b\b\b\r25/25 [==============================] - 18s 730ms/step - loss: 0.4584 - accuracy: 0.9785 - val_loss: 0.6088 - val_accuracy: 0.8867 - lr: 0.0010\n",
            "Epoch 6/20\n",
            "25/25 [==============================] - ETA: 0s - loss: 0.4803 - accuracy: 0.9734"
          ]
        },
        {
          "output_type": "stream",
          "name": "stderr",
          "text": [
            "WARNING:tensorflow:Can save best model only with val_acc available, skipping.\n"
          ]
        },
        {
          "output_type": "stream",
          "name": "stdout",
          "text": [
            "\b\b\b\b\b\b\b\b\b\b\b\b\b\b\b\b\b\b\b\b\b\b\b\b\b\b\b\b\b\b\b\b\b\b\b\b\b\b\b\b\b\b\b\b\b\b\b\b\b\b\b\b\b\b\b\b\b\b\b\b\b\b\b\b\b\b\b\b\b\b\b\b\b\b\b\b\b\b\b\b\b\b\r25/25 [==============================] - 17s 688ms/step - loss: 0.4803 - accuracy: 0.9734 - val_loss: 0.5723 - val_accuracy: 0.8933 - lr: 0.0010\n",
            "Epoch 7/20\n",
            "25/25 [==============================] - ETA: 0s - loss: 0.4054 - accuracy: 0.9823"
          ]
        },
        {
          "output_type": "stream",
          "name": "stderr",
          "text": [
            "WARNING:tensorflow:Can save best model only with val_acc available, skipping.\n"
          ]
        },
        {
          "output_type": "stream",
          "name": "stdout",
          "text": [
            "\b\b\b\b\b\b\b\b\b\b\b\b\b\b\b\b\b\b\b\b\b\b\b\b\b\b\b\b\b\b\b\b\b\b\b\b\b\b\b\b\b\b\b\b\b\b\b\b\b\b\b\b\b\b\b\b\b\b\b\b\b\b\b\b\b\b\b\b\b\b\b\b\b\b\b\b\b\b\b\b\b\b\r25/25 [==============================] - 17s 686ms/step - loss: 0.4054 - accuracy: 0.9823 - val_loss: 0.6426 - val_accuracy: 0.8600 - lr: 0.0010\n",
            "Epoch 8/20\n",
            "25/25 [==============================] - ETA: 0s - loss: 0.3628 - accuracy: 0.9899"
          ]
        },
        {
          "output_type": "stream",
          "name": "stderr",
          "text": [
            "WARNING:tensorflow:Can save best model only with val_acc available, skipping.\n"
          ]
        },
        {
          "output_type": "stream",
          "name": "stdout",
          "text": [
            "\b\b\b\b\b\b\b\b\b\b\b\b\b\b\b\b\b\b\b\b\b\b\b\b\b\b\b\b\b\b\b\b\b\b\b\b\b\b\b\b\b\b\b\b\b\b\b\b\b\b\b\b\b\b\b\b\b\b\b\b\b\b\b\b\b\b\b\b\b\b\b\b\b\b\b\b\b\b\b\b\b\b\r25/25 [==============================] - 18s 727ms/step - loss: 0.3628 - accuracy: 0.9899 - val_loss: 0.4330 - val_accuracy: 0.9733 - lr: 0.0010\n",
            "Epoch 9/20\n",
            "25/25 [==============================] - ETA: 0s - loss: 0.3486 - accuracy: 0.9899"
          ]
        },
        {
          "output_type": "stream",
          "name": "stderr",
          "text": [
            "WARNING:tensorflow:Can save best model only with val_acc available, skipping.\n"
          ]
        },
        {
          "output_type": "stream",
          "name": "stdout",
          "text": [
            "\b\b\b\b\b\b\b\b\b\b\b\b\b\b\b\b\b\b\b\b\b\b\b\b\b\b\b\b\b\b\b\b\b\b\b\b\b\b\b\b\b\b\b\b\b\b\b\b\b\b\b\b\b\b\b\b\b\b\b\b\b\b\b\b\b\b\b\b\b\b\b\b\b\b\b\b\b\b\b\b\b\b\r25/25 [==============================] - 17s 685ms/step - loss: 0.3486 - accuracy: 0.9899 - val_loss: 0.3486 - val_accuracy: 0.9933 - lr: 0.0010\n",
            "Epoch 10/20\n",
            "25/25 [==============================] - ETA: 0s - loss: 0.3315 - accuracy: 0.9899"
          ]
        },
        {
          "output_type": "stream",
          "name": "stderr",
          "text": [
            "WARNING:tensorflow:Can save best model only with val_acc available, skipping.\n"
          ]
        },
        {
          "output_type": "stream",
          "name": "stdout",
          "text": [
            "\b\b\b\b\b\b\b\b\b\b\b\b\b\b\b\b\b\b\b\b\b\b\b\b\b\b\b\b\b\b\b\b\b\b\b\b\b\b\b\b\b\b\b\b\b\b\b\b\b\b\b\b\b\b\b\b\b\b\b\b\b\b\b\b\b\b\b\b\b\b\b\b\b\b\b\b\b\b\b\b\b\b\r25/25 [==============================] - 19s 749ms/step - loss: 0.3315 - accuracy: 0.9899 - val_loss: 1.0740 - val_accuracy: 0.5800 - lr: 0.0010\n",
            "Epoch 11/20\n",
            "25/25 [==============================] - ETA: 0s - loss: 0.3208 - accuracy: 0.9886"
          ]
        },
        {
          "output_type": "stream",
          "name": "stderr",
          "text": [
            "WARNING:tensorflow:Can save best model only with val_acc available, skipping.\n"
          ]
        },
        {
          "output_type": "stream",
          "name": "stdout",
          "text": [
            "\b\b\b\b\b\b\b\b\b\b\b\b\b\b\b\b\b\b\b\b\b\b\b\b\b\b\b\b\b\b\b\b\b\b\b\b\b\b\b\b\b\b\b\b\b\b\b\b\b\b\b\b\b\b\b\b\b\b\b\b\b\b\b\b\b\b\b\b\b\b\b\b\b\b\b\b\b\b\b\b\b\b\r25/25 [==============================] - 17s 694ms/step - loss: 0.3208 - accuracy: 0.9886 - val_loss: 0.2847 - val_accuracy: 1.0000 - lr: 0.0010\n",
            "Epoch 12/20\n",
            "25/25 [==============================] - ETA: 0s - loss: 0.3640 - accuracy: 0.9645"
          ]
        },
        {
          "output_type": "stream",
          "name": "stderr",
          "text": [
            "WARNING:tensorflow:Can save best model only with val_acc available, skipping.\n"
          ]
        },
        {
          "output_type": "stream",
          "name": "stdout",
          "text": [
            "\b\b\b\b\b\b\b\b\b\b\b\b\b\b\b\b\b\b\b\b\b\b\b\b\b\b\b\b\b\b\b\b\b\b\b\b\b\b\b\b\b\b\b\b\b\b\b\b\b\b\b\b\b\b\b\b\b\b\b\b\b\b\b\b\b\b\b\b\b\b\b\b\b\b\b\b\b\b\b\b\b\b\r25/25 [==============================] - 18s 738ms/step - loss: 0.3640 - accuracy: 0.9645 - val_loss: 3.0180 - val_accuracy: 0.5067 - lr: 0.0010\n",
            "Epoch 13/20\n",
            "25/25 [==============================] - ETA: 0s - loss: 0.2983 - accuracy: 0.9848"
          ]
        },
        {
          "output_type": "stream",
          "name": "stderr",
          "text": [
            "WARNING:tensorflow:Can save best model only with val_acc available, skipping.\n"
          ]
        },
        {
          "output_type": "stream",
          "name": "stdout",
          "text": [
            "\b\b\b\b\b\b\b\b\b\b\b\b\b\b\b\b\b\b\b\b\b\b\b\b\b\b\b\b\b\b\b\b\b\b\b\b\b\b\b\b\b\b\b\b\b\b\b\b\b\b\b\b\b\b\b\b\b\b\b\b\b\b\b\b\b\b\b\b\b\b\b\b\b\b\b\b\b\b\b\b\b\b\r25/25 [==============================] - 18s 693ms/step - loss: 0.2983 - accuracy: 0.9848 - val_loss: 0.2609 - val_accuracy: 0.9933 - lr: 0.0010\n",
            "Epoch 14/20\n",
            "25/25 [==============================] - ETA: 0s - loss: 0.2747 - accuracy: 0.9911"
          ]
        },
        {
          "output_type": "stream",
          "name": "stderr",
          "text": [
            "WARNING:tensorflow:Can save best model only with val_acc available, skipping.\n"
          ]
        },
        {
          "output_type": "stream",
          "name": "stdout",
          "text": [
            "\b\b\b\b\b\b\b\b\b\b\b\b\b\b\b\b\b\b\b\b\b\b\b\b\b\b\b\b\b\b\b\b\b\b\b\b\b\b\b\b\b\b\b\b\b\b\b\b\b\b\b\b\b\b\b\b\b\b\b\b\b\b\b\b\b\b\b\b\b\b\b\b\b\b\b\b\b\b\b\b\b\b\r25/25 [==============================] - 17s 689ms/step - loss: 0.2747 - accuracy: 0.9911 - val_loss: 0.2831 - val_accuracy: 0.9800 - lr: 0.0010\n",
            "Epoch 15/20\n",
            "25/25 [==============================] - ETA: 0s - loss: 0.2588 - accuracy: 0.9911"
          ]
        },
        {
          "output_type": "stream",
          "name": "stderr",
          "text": [
            "WARNING:tensorflow:Can save best model only with val_acc available, skipping.\n"
          ]
        },
        {
          "output_type": "stream",
          "name": "stdout",
          "text": [
            "\b\b\b\b\b\b\b\b\b\b\b\b\b\b\b\b\b\b\b\b\b\b\b\b\b\b\b\b\b\b\b\b\b\b\b\b\b\b\b\b\b\b\b\b\b\b\b\b\b\b\b\b\b\b\b\b\b\b\b\b\b\b\b\b\b\b\b\b\b\b\b\b\b\b\b\b\b\b\b\b\b\b\r25/25 [==============================] - 19s 751ms/step - loss: 0.2588 - accuracy: 0.9911 - val_loss: 0.2293 - val_accuracy: 1.0000 - lr: 0.0010\n",
            "Epoch 16/20\n",
            "25/25 [==============================] - ETA: 0s - loss: 0.2920 - accuracy: 0.9772"
          ]
        },
        {
          "output_type": "stream",
          "name": "stderr",
          "text": [
            "WARNING:tensorflow:Can save best model only with val_acc available, skipping.\n"
          ]
        },
        {
          "output_type": "stream",
          "name": "stdout",
          "text": [
            "\b\b\b\b\b\b\b\b\b\b\b\b\b\b\b\b\b\b\b\b\b\b\b\b\b\b\b\b\b\b\b\b\b\b\b\b\b\b\b\b\b\b\b\b\b\b\b\b\b\b\b\b\b\b\b\b\b\b\b\b\b\b\b\b\b\b\b\b\b\b\b\b\b\b\b\b\b\b\b\b\b\b\r25/25 [==============================] - 18s 700ms/step - loss: 0.2920 - accuracy: 0.9772 - val_loss: 1.1774 - val_accuracy: 0.8000 - lr: 0.0010\n",
            "Epoch 17/20\n",
            "25/25 [==============================] - ETA: 0s - loss: 0.2598 - accuracy: 0.9810"
          ]
        },
        {
          "output_type": "stream",
          "name": "stderr",
          "text": [
            "WARNING:tensorflow:Can save best model only with val_acc available, skipping.\n"
          ]
        },
        {
          "output_type": "stream",
          "name": "stdout",
          "text": [
            "\b\b\b\b\b\b\b\b\b\b\b\b\b\b\b\b\b\b\b\b\b\b\b\b\b\b\b\b\b\b\b\b\b\b\b\b\b\b\b\b\b\b\b\b\b\b\b\b\b\b\b\b\b\b\b\b\b\b\b\b\b\b\b\b\b\b\b\b\b\b\b\b\b\b\b\b\b\b\b\b\b\b\r25/25 [==============================] - 19s 779ms/step - loss: 0.2598 - accuracy: 0.9810 - val_loss: 2.8768 - val_accuracy: 0.5067 - lr: 0.0010\n",
            "Epoch 18/20\n",
            "25/25 [==============================] - ETA: 0s - loss: 0.2443 - accuracy: 0.9772"
          ]
        },
        {
          "output_type": "stream",
          "name": "stderr",
          "text": [
            "WARNING:tensorflow:Can save best model only with val_acc available, skipping.\n"
          ]
        },
        {
          "output_type": "stream",
          "name": "stdout",
          "text": [
            "\n",
            "Epoch 18: ReduceLROnPlateau reducing learning rate to 0.00020000000949949026.\n",
            "25/25 [==============================] - 17s 680ms/step - loss: 0.2443 - accuracy: 0.9772 - val_loss: 0.2688 - val_accuracy: 0.9533 - lr: 0.0010\n",
            "Epoch 19/20\n",
            "25/25 [==============================] - ETA: 0s - loss: 0.2171 - accuracy: 0.9911"
          ]
        },
        {
          "output_type": "stream",
          "name": "stderr",
          "text": [
            "WARNING:tensorflow:Can save best model only with val_acc available, skipping.\n"
          ]
        },
        {
          "output_type": "stream",
          "name": "stdout",
          "text": [
            "\b\b\b\b\b\b\b\b\b\b\b\b\b\b\b\b\b\b\b\b\b\b\b\b\b\b\b\b\b\b\b\b\b\b\b\b\b\b\b\b\b\b\b\b\b\b\b\b\b\b\b\b\b\b\b\b\b\b\b\b\b\b\b\b\b\b\b\b\b\b\b\b\b\b\b\b\b\b\b\b\b\b\r25/25 [==============================] - 17s 693ms/step - loss: 0.2171 - accuracy: 0.9911 - val_loss: 0.2199 - val_accuracy: 0.9867 - lr: 2.0000e-04\n",
            "Epoch 20/20\n",
            "25/25 [==============================] - ETA: 0s - loss: 0.1984 - accuracy: 0.9962"
          ]
        },
        {
          "output_type": "stream",
          "name": "stderr",
          "text": [
            "WARNING:tensorflow:Can save best model only with val_acc available, skipping.\n"
          ]
        },
        {
          "output_type": "stream",
          "name": "stdout",
          "text": [
            "\b\b\b\b\b\b\b\b\b\b\b\b\b\b\b\b\b\b\b\b\b\b\b\b\b\b\b\b\b\b\b\b\b\b\b\b\b\b\b\b\b\b\b\b\b\b\b\b\b\b\b\b\b\b\b\b\b\b\b\b\b\b\b\b\b\b\b\b\b\b\b\b\b\b\b\b\b\b\b\b\b\b\r25/25 [==============================] - 19s 756ms/step - loss: 0.1984 - accuracy: 0.9962 - val_loss: 0.1877 - val_accuracy: 1.0000 - lr: 2.0000e-04\n"
          ]
        }
      ],
      "source": [
        "counter = Counter(train_dataset.classes)\n",
        "max_val = float(max(counter.values()))\n",
        "class_weights = {class_id : round(max_val/num_images,2) for class_id, num_images in counter.items()}\n",
        "\n",
        "# lrd = ReduceLROnPlateau(monitor = 'val_loss',patience = PATIENCE,verbose = 1,factor = 0.50, min_lr = 1e-10)\n",
        "# mcp = ModelCheckpoint('modelVGG.h5')\n",
        "# es = EarlyStopping(verbose=1, patience=20)\n",
        "\n",
        "history=model.fit(train_dataset,\n",
        "                  validation_data=test_dataset,\n",
        "                  epochs = 20,\n",
        "                  verbose =1,\n",
        "                  callbacks = callbacks_list,\n",
        "                  class_weight = class_weights)"
      ]
    },
    {
      "cell_type": "code",
      "source": [
        "%cd /content/drive/MyDrive/project_AI\n",
        "model.save('modelVgg16_au.h5')"
      ],
      "metadata": {
        "colab": {
          "base_uri": "https://localhost:8080/"
        },
        "id": "G9Rn_WGH_MNu",
        "outputId": "f6fda2e8-cb7a-4447-9af2-4afe3c018ce6"
      },
      "execution_count": null,
      "outputs": [
        {
          "output_type": "stream",
          "name": "stdout",
          "text": [
            "/content/drive/MyDrive/project_AI\n"
          ]
        }
      ]
    },
    {
      "cell_type": "code",
      "source": [
        "def plot_curves(history):\n",
        "\n",
        "    loss = history.history[\"loss\"]\n",
        "    val_loss = history.history[\"val_loss\"]\n",
        "\n",
        "    accuracy = history.history[\"accuracy\"]\n",
        "    val_accuracy = history.history[\"val_accuracy\"]\n",
        "\n",
        "    epochs = range(len(history.history[\"loss\"]))\n",
        "\n",
        "    plt.figure(figsize=(15,5))\n",
        "\n",
        "    #plot loss\n",
        "    plt.subplot(1, 2, 1)\n",
        "    plt.plot(epochs, loss, label = \"training_loss\")\n",
        "    plt.plot(epochs, val_loss, label = \"val_loss\")\n",
        "    plt.title(\"Loss\")\n",
        "    plt.xlabel(\"epochs\")\n",
        "    plt.legend()\n",
        "\n",
        "    #plot accuracy\n",
        "    plt.subplot(1, 2, 2)\n",
        "    plt.plot(epochs, accuracy, label = \"training_accuracy\")\n",
        "    plt.plot(epochs, val_accuracy, label = \"val_accuracy\")\n",
        "    plt.title(\"Accuracy\")\n",
        "    plt.xlabel(\"epochs\")\n",
        "    plt.legend()"
      ],
      "metadata": {
        "id": "rMg7-CSB_Xk9"
      },
      "execution_count": null,
      "outputs": []
    },
    {
      "cell_type": "code",
      "source": [
        "plot_curves(history)"
      ],
      "metadata": {
        "colab": {
          "base_uri": "https://localhost:8080/",
          "height": 369
        },
        "id": "P1ndsELO_aqL",
        "outputId": "5040ec77-5077-464c-cd55-5aeb2694eefd"
      },
      "execution_count": null,
      "outputs": [
        {
          "output_type": "display_data",
          "data": {
            "text/plain": [
              "<Figure size 1500x500 with 2 Axes>"
            ],
            "image/png": "[encoded data removed]"
          },
          "metadata": {}
        }
      ]
    },
    {
      "cell_type": "code",
      "source": [
        "Xtest = []\n",
        "ytest = []\n",
        "dict = {'ship':[0,1],'shipfire':[1,0]}\n",
        "TEST_DATA = \"/content/drive/MyDrive/project_AI/dataset/test_data\"\n",
        "for whatever in os.listdir(TEST_DATA):\n",
        "  whatever_path =  os.path.join(TEST_DATA, whatever)\n",
        "  lst_filename_path = []\n",
        "  for filename in os.listdir(whatever_path):\n",
        "    filename_path = os.path.join(whatever_path, filename)\n",
        "    lable = filename_path.split('/')[-2]\n",
        "    img = Image.open(filename_path)\n",
        "    img = img.resize((224,224))\n",
        "    img = np.array(img)\n",
        "    lst_filename_path.append((img,dict[lable]))\n",
        "  Xtest.extend(lst_filename_path)\n"
      ],
      "metadata": {
        "id": "K9QWNrCyDsqL"
      },
      "execution_count": null,
      "outputs": []
    },
    {
      "cell_type": "code",
      "source": [
        "arr = np.array([x[0] for _, x in enumerate(Xtest)])\n",
        "md = models.load_model(\"/content/drive/MyDrive/project_AI/modelVgg16_au.h5\")\n",
        "Vgg16_Predictions = md.predict(arr[::-1])\n",
        "\n",
        "# Choosing highest probalbilty class in every prediction\n",
        "Vgg16_Predictions = np.argmax(Vgg16_Predictions,axis = 1)\n",
        "print(Vgg16_Predictions)\n",
        "print(test_dataset.labels)\n"
      ],
      "metadata": {
        "colab": {
          "base_uri": "https://localhost:8080/"
        },
        "id": "xxYnCuXzEr7B",
        "outputId": "31266966-1cbb-43b7-c670-4c491fd3111c"
      },
      "execution_count": null,
      "outputs": [
        {
          "output_type": "stream",
          "name": "stdout",
          "text": [
            "5/5 [==============================] - 1s 120ms/step\n",
            "[1 1 1 1 1 1 1 1 1 1 1 1 1 1 1 1 1 1 1 1 1 1 1 1 1 1 1 1 1 1 1 1 1 1 1 1 1\n",
            " 1 1 1 1 1 1 1 1 1 1 1 1 1 1 1 1 1 1 1 1 1 1 1 1 1 1 1 1 1 1 1 1 1 1 1 1 1\n",
            " 1 1 1 1 0 1 1 1 1 1 1 1 1 1 1 1 1 1 1 1 1 1 1 1 1 1 1 1 1 1 1 1 1 1 1 1 1\n",
            " 1 1 1 1 1 1 1 1 1 1 1 1 1 1 1 1 1 1 1 1 1 1 1 1 1 1 1 1 1 1 1 1 1 1 1 1 1\n",
            " 1 1 1 1 1 1]\n",
            "[0 0 0 0 0 0 0 0 0 0 0 0 0 0 0 0 0 0 0 0 0 0 0 0 0 0 0 0 0 0 0 0 0 0 0 0 0\n",
            " 0 0 0 0 0 0 0 0 0 0 0 0 0 0 0 0 0 0 0 0 0 0 0 0 0 0 0 0 0 0 0 0 0 0 0 0 0\n",
            " 1 1 1 1 1 1 1 1 1 1 1 1 1 1 1 1 1 1 1 1 1 1 1 1 1 1 1 1 1 1 1 1 1 1 1 1 1\n",
            " 1 1 1 1 1 1 1 1 1 1 1 1 1 1 1 1 1 1 1 1 1 1 1 1 1 1 1 1 1 1 1 1 1 1 1 1 1\n",
            " 1 1]\n"
          ]
        }
      ]
    }
  ],
  "metadata": {
    "accelerator": "GPU",
    "colab": {
      "provenance": []
    },
    "kernelspec": {
      "display_name": "Python 3",
      "name": "python3"
    },
    "language_info": {
      "name": "python"
    }
  },
  "nbformat": 4,
  "nbformat_minor": 0
}